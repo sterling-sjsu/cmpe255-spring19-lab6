{
 "cells": [
  {
   "cell_type": "code",
   "execution_count": 3,
   "metadata": {},
   "outputs": [],
   "source": [
    "import numpy as np\n",
    "import matplotlib.pyplot as plt\n",
    "\n",
    "X = np.array([17.5, 22, 29.5, 44.5, 64.5, 80])\n",
    "y = np.array([38, 36, 24, 20, 18, 28])"
   ]
  },
  {
   "cell_type": "code",
   "execution_count": 11,
   "metadata": {},
   "outputs": [
    {
     "data": {
      "image/png": "[encoded data removed]",
      "text/plain": [
       "<Figure size 432x288 with 1 Axes>"
      ]
     },
     "metadata": {},
     "output_type": "display_data"
    },
    {
     "name": "stdout",
     "output_type": "stream",
     "text": [
      "-0.19182491149018346 35.58180452741122\n"
     ]
    }
   ],
   "source": [
    "plt.plot(X, y, \"b.\")\n",
    "plt.xlabel(\"$x_1$\", fontsize=18)\n",
    "plt.ylabel(\"$y$\", rotation=0, fontsize=18)\n",
    "plt.axis([15, 85, 16, 40])\n",
    "plt.show()"
   ]
  },
  {
   "cell_type": "code",
   "execution_count": 63,
   "metadata": {},
   "outputs": [
    {
     "name": "stdout",
     "output_type": "stream",
     "text": [
      "Least Squares (Best Fit Line): ŷ = -0.1918249114901835 + 35.58180452741122x\n"
     ]
    },
    {
     "data": {
      "image/png": "[encoded data removed]",
      "text/plain": [
       "<Figure size 432x288 with 1 Axes>"
      ]
     },
     "metadata": {},
     "output_type": "display_data"
    },
    {
     "name": "stdout",
     "output_type": "stream",
     "text": [
      "Predicted number of deaths for Age 40: 27.908808067803882\n",
      "Predicted number of deaths for Age 60: 24.072309838000212\n",
      "Based on given data, there does exist a linear relationship between age and number of deaths until age 80 where the trend is no longer linear.\n",
      "Correlation Coefficient (Pearson's R): -0.578743707566063\n"
     ]
    }
   ],
   "source": [
    "from sklearn.linear_model import LinearRegression\n",
    "from scipy.stats import pearsonr\n",
    "\n",
    "# Least Squares (Best Fit Line)\n",
    "X_mean = np.mean(X)\n",
    "y_mean = np.mean(y)\n",
    "\n",
    "lin_reg = LinearRegression()\n",
    "lin_reg.fit(X.reshape(-1, 1), y)\n",
    "b = lin_reg.coef_[0]\n",
    "a = lin_reg.intercept_\n",
    "\n",
    "print(\"Least Squares (Best Fit Line): ŷ = {} + {}x\".format(b, a))\n",
    "\n",
    "X_new = np.array([[15], [85]])\n",
    "y_predict = a + X_new * b\n",
    "\n",
    "plt.plot(X_new, y_predict, \"r-\")\n",
    "plt.plot(X, y, \"b.\")\n",
    "plt.axis([15, 85, 16, 40])\n",
    "plt.show()\n",
    "\n",
    "print(\"Predicted number of deaths for Age 40:\", a + 40 * b)\n",
    "print(\"Predicted number of deaths for Age 60:\", a + 60 * b)\n",
    "print(\"Based on given data, there does exist a linear relationship between age and number of deaths until age 80 where the trend is no longer linear.\")\n",
    "print(\"Correlation Coefficient (Pearson's R):\", pearsonr(X, y)[0])"
   ]
  }
 ],
 "metadata": {
  "kernelspec": {
   "display_name": "Python 3",
   "language": "python",
   "name": "python3"
  },
  "language_info": {
   "codemirror_mode": {
    "name": "ipython",
    "version": 3
   },
   "file_extension": ".py",
   "mimetype": "text/x-python",
   "name": "python",
   "nbconvert_exporter": "python",
   "pygments_lexer": "ipython3",
   "version": "3.6.5"
  }
 },
 "nbformat": 4,
 "nbformat_minor": 2
}
